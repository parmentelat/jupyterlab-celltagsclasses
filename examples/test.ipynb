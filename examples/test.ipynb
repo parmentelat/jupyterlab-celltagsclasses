{
 "cells": [
  {
   "cell_type": "markdown",
   "id": "8fb8ca7f-d0df-40e3-ae3b-9287615dcf7e",
   "metadata": {
    "editable": true,
    "hide_input": true,
    "slideshow": {
     "slide_type": ""
    },
    "tags": [
     "celltagsclasses-test1"
    ]
   },
   "source": [
    "# markdown\n",
    "\n",
    "this cell has tag `celltagsclasses-test1`"
   ]
  },
  {
   "cell_type": "code",
   "execution_count": 1,
   "id": "d942300f-d1e4-4456-bcc2-ad7d241635d9",
   "metadata": {
    "editable": true,
    "hide_input": true,
    "scrolled": true,
    "slideshow": {
     "slide_type": ""
    },
    "tags": [
     "celltagsclasses-test1"
    ]
   },
   "outputs": [
    {
     "name": "stdout",
     "output_type": "stream",
     "text": [
      "hello\n"
     ]
    }
   ],
   "source": [
    "# code\n",
    "# this cell has tag `celltagsclasses-test1`\n",
    "\n",
    "print(\"hello\")"
   ]
  },
  {
   "cell_type": "markdown",
   "id": "89ec9ffa-b11b-4073-a193-f14d7d4dee88",
   "metadata": {
    "editable": true,
    "hide_input": true,
    "slideshow": {
     "slide_type": ""
    },
    "tags": [
     "celltagsclasses-test2"
    ]
   },
   "source": [
    "# markdown\n",
    "\n",
    "this cell has tag `celltagsclasses-test2`\n",
    "\n",
    "because `background-color` is set without `!important` this cell is red except when active\n",
    "\n",
    "also note that with this style the upper-right corner cell tool bar has gone"
   ]
  },
  {
   "cell_type": "code",
   "execution_count": 2,
   "id": "154a0b69-00f6-49ec-9c0f-2c7dc970e403",
   "metadata": {
    "editable": true,
    "hide_input": true,
    "scrolled": true,
    "slideshow": {
     "slide_type": ""
    },
    "tags": [
     "celltagsclasses-test2"
    ]
   },
   "outputs": [
    {
     "name": "stdout",
     "output_type": "stream",
     "text": [
      "hello\n"
     ]
    }
   ],
   "source": [
    "# code\n",
    "# this cell has tag `celltagsclasses-test2`\n",
    "\n",
    "print(\"hello\")"
   ]
  }
 ],
 "metadata": {
  "kernelspec": {
   "display_name": "Python 3 (ipykernel)",
   "language": "python",
   "name": "python3"
  },
  "language_info": {
   "codemirror_mode": {
    "name": "ipython",
    "version": 3
   },
   "file_extension": ".py",
   "mimetype": "text/x-python",
   "name": "python",
   "nbconvert_exporter": "python",
   "pygments_lexer": "ipython3",
   "version": "3.10.10"
  },
  "toc": {
   "base_numbering": 1
  }
 },
 "nbformat": 4,
 "nbformat_minor": 5
}
